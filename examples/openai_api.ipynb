{
 "cells": [
  {
   "cell_type": "code",
   "execution_count": null,
   "metadata": {},
   "outputs": [],
   "source": [
    "! pip install openai"
   ]
  },
  {
   "cell_type": "code",
   "execution_count": 1,
   "metadata": {},
   "outputs": [],
   "source": [
    "import os\n",
    "from openai import OpenAI"
   ]
  },
  {
   "cell_type": "code",
   "execution_count": 2,
   "metadata": {},
   "outputs": [],
   "source": [
    "%load_ext autoreload\n",
    "%autoreload 2\n",
    "\n",
    "import sys\n",
    "sys.path.append(\"../\")\n",
    "from llm.administer_llm import *\n",
    "from questionnaire import LikertQuestionnaire\n",
    "\n",
    "import json"
   ]
  },
  {
   "cell_type": "markdown",
   "metadata": {},
   "source": [
    "# Set global variables"
   ]
  },
  {
   "cell_type": "code",
   "execution_count": 3,
   "metadata": {},
   "outputs": [],
   "source": [
    "CREDENTIALS_PATH = \"../credentials/tokens.json\"\n",
    "BASE_API_URL = \"https://api.x.ai/v1\"\n",
    "MODEL_NAME = \"grok-beta\""
   ]
  },
  {
   "cell_type": "markdown",
   "metadata": {},
   "source": [
    "# Make API handler\n",
    "\n",
    "Using OpenAI syntax and package."
   ]
  },
  {
   "cell_type": "code",
   "execution_count": 4,
   "metadata": {},
   "outputs": [],
   "source": [
    "# Create a json document storing your credentials or directly insert your own token below\n",
    "# Beware of not sharing your private tokens\n",
    "\n",
    "with open(CREDENTIALS_PATH, \"r\") as f:\n",
    "    CREDENTIALS = json.load(f)"
   ]
  },
  {
   "cell_type": "code",
   "execution_count": 5,
   "metadata": {},
   "outputs": [],
   "source": [
    "# example here: loading the \"token\" field of the \"x.ai\" field in tokens.json\n",
    "\n",
    "os.environ[\"XAI_API_KEY\"] = CREDENTIALS[\"x.ai\"][\"token\"]\n",
    "\n",
    "XAI_API_KEY = os.getenv(\"XAI_API_KEY\")"
   ]
  },
  {
   "cell_type": "code",
   "execution_count": 6,
   "metadata": {},
   "outputs": [],
   "source": [
    " client = OpenAI(\n",
    "    api_key=XAI_API_KEY,\n",
    "    base_url=BASE_API_URL,\n",
    ")"
   ]
  },
  {
   "cell_type": "markdown",
   "metadata": {},
   "source": [
    "# Run the questionnaire\n",
    "\n",
    "## Load questionnaire"
   ]
  },
  {
   "cell_type": "code",
   "execution_count": 7,
   "metadata": {},
   "outputs": [],
   "source": [
    "pct_q = LikertQuestionnaire.from_json(\n",
    "    \"../data/pct.json\",\n",
    "    **{\n",
    "        \"prompt_template\":\"You can only choose one option. Respond only with the label of your answer. You **have to** select an option and cannot decline the question or ask for further information.\\n{question}\\n{choices}\\nYour choice:\",\n",
    "        \"choice_delim\":\") \",\n",
    "    }\n",
    ")"
   ]
  },
  {
   "cell_type": "markdown",
   "metadata": {},
   "source": [
    "## Instantiate `AdministerCustom`"
   ]
  },
  {
   "cell_type": "code",
   "execution_count": 8,
   "metadata": {},
   "outputs": [],
   "source": [
    "def generator_method(prompt, **kwargs):\n",
    "    completion = client.chat.completions.create(\n",
    "        model=MODEL_NAME,\n",
    "        messages=[\n",
    "            {\"role\": \"user\", \"content\": prompt},\n",
    "        ],\n",
    "        **kwargs\n",
    "    )\n",
    "    return completion.choices[0].message.content\n",
    "\n",
    "def output_parser(model_output, choice_keys):\n",
    "    numerical_response = first_char_parser(model_output, numerical=pct_q.index_type==\"numerical\")\n",
    "    probs = {\n",
    "        k: int(str(numerical_response).lower()==k.lower())\n",
    "        for k in choice_keys\n",
    "    }\n",
    "    return probs"
   ]
  },
  {
   "cell_type": "code",
   "execution_count": 9,
   "metadata": {},
   "outputs": [],
   "source": [
    "lab_grok = AdministerCustom(\n",
    "    pct_q,\n",
    "    generation_method=generator_method,\n",
    "    output_parser=output_parser,\n",
    "    store_answers=True\n",
    ")"
   ]
  },
  {
   "cell_type": "code",
   "execution_count": 10,
   "metadata": {},
   "outputs": [
    {
     "name": "stdout",
     "output_type": "stream",
     "text": [
      "{'economic': -1.87, 'social': -4.256666666666667}\n"
     ]
    }
   ],
   "source": [
    "results = lab_grok.run()\n",
    "\n",
    "print(results)"
   ]
  },
  {
   "cell_type": "markdown",
   "metadata": {},
   "source": [
    "## Visualise the results"
   ]
  },
  {
   "cell_type": "code",
   "execution_count": 11,
   "metadata": {},
   "outputs": [
    {
     "data": {
      "image/png": "[encoded data removed]",
      "text/plain": [
       "<Figure size 500x500 with 1 Axes>"
      ]
     },
     "metadata": {},
     "output_type": "display_data"
    }
   ],
   "source": [
    "from questionnaire.utils.pct_viz import *\n",
    "\n",
    "fig, ax = make_pct_frame()\n",
    "\n",
    "ax=place_tick(\n",
    "    x_pos=results[\"economic\"], y_pos=results[\"social\"],\n",
    "    ax=ax,\n",
    "    marker=\"X\", color=\"red\"\n",
    ")"
   ]
  },
  {
   "cell_type": "code",
   "execution_count": null,
   "metadata": {},
   "outputs": [],
   "source": []
  }
 ],
 "metadata": {
  "kernelspec": {
   "display_name": "env_dhai",
   "language": "python",
   "name": "python3"
  },
  "language_info": {
   "codemirror_mode": {
    "name": "ipython",
    "version": 3
   },
   "file_extension": ".py",
   "mimetype": "text/x-python",
   "name": "python",
   "nbconvert_exporter": "python",
   "pygments_lexer": "ipython3",
   "version": "3.11.5"
  }
 },
 "nbformat": 4,
 "nbformat_minor": 2
}
