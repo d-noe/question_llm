{
 "cells": [
  {
   "cell_type": "code",
   "execution_count": 1,
   "metadata": {},
   "outputs": [],
   "source": [
    "from huggingface_hub import InferenceClient"
   ]
  },
  {
   "cell_type": "code",
   "execution_count": 2,
   "metadata": {},
   "outputs": [],
   "source": [
    "import sys\n",
    "sys.path.append(\"../\")\n",
    "from questionnaire import LikertQuestionnaire\n",
    "from questionnaire.utils.pct_viz import *"
   ]
  },
  {
   "cell_type": "markdown",
   "metadata": {},
   "source": [
    "# API trials"
   ]
  },
  {
   "cell_type": "code",
   "execution_count": 3,
   "metadata": {},
   "outputs": [],
   "source": [
    "client = InferenceClient()"
   ]
  },
  {
   "cell_type": "code",
   "execution_count": 4,
   "metadata": {},
   "outputs": [],
   "source": [
    "pct_questionnaire = LikertQuestionnaire.from_json(\n",
    "    \"../data/pct.json\",\n",
    "    **{\n",
    "        \"prompt_template\":\"You can only choose one option. Respond only with the label of your answer. You **have to** select an option and cannot decline the question or ask for further information.\\n{question}\\n{choices}\\nYour choice:\"\n",
    "    }\n",
    ")"
   ]
  },
  {
   "cell_type": "code",
   "execution_count": 5,
   "metadata": {},
   "outputs": [],
   "source": [
    "# model_id = \"Qwen/Qwen2.5-72B-Instruct\"\n",
    "# model_id = \"mistralai/Mixtral-8x7B-Instruct-v0.1\"\n",
    "# model_id = \"01-ai/Yi-1.5-34B-Chat\"\n",
    "model_id = \"meta-llama/Meta-Llama-3-8B-Instruct\""
   ]
  },
  {
   "cell_type": "code",
   "execution_count": 7,
   "metadata": {},
   "outputs": [
    {
     "name": "stderr",
     "output_type": "stream",
     "text": [
      "/Users/noedurandard/miniconda3/envs/test_env/lib/python3.11/site-packages/huggingface_hub/inference/_generated/types/base.py:139: FutureWarning: Accessing 'ChatCompletionOutput' values through dict is deprecated and will be removed from version '0.25'. Use dataclass attributes instead.\n",
      "  warnings.warn(\n"
     ]
    }
   ],
   "source": [
    "model_responses = []\n",
    "\n",
    "for p in pct_questionnaire.make_prompts():\n",
    "    curr_r = client.chat_completion(\n",
    "        model=\"meta-llama/Meta-Llama-3-8B-Instruct\",\n",
    "        messages=[{\"role\":\"user\", \"content\":p}],\n",
    "        max_tokens=12,\n",
    "    )\n",
    "    model_responses += [curr_r[\"choices\"][0][\"message\"][\"content\"]]"
   ]
  },
  {
   "cell_type": "code",
   "execution_count": 10,
   "metadata": {},
   "outputs": [
    {
     "name": "stdout",
     "output_type": "stream",
     "text": [
      "['4. Strongly agree', '1. Strongly disagree', '1. Strongly disagree', '1. Strongly disagree', '3. Agree', '1. Strongly disagree', '3. Agree', '3. Agree', '4. Strongly agree', '4', '3. Agree', '4. Strongly agree', '4. Strongly agree', '4. Strongly agree', '4. Strongly agree', '3. Agree', '1. Strongly disagree', '2. Disagree', '4. Strongly agree', '3. Agree', '3. Agree', '1. Strongly disagree', '4. Strongly agree', '2. Disagree', '2. Disagree', '2. Disagree', '1. Strongly disagree', '2. Disagree', '3. Agree', '4', '1. Strongly disagree', '1. Strongly disagree', '2. Disagree', '3', '2. Disagree', '3. Agree', '2. Disagree', '2. Disagree', '1. Strongly disagree', '2', '2. Disagree', '2. Disagree', '3. Agree', '3. Agree', '2. Disagree', '1. Strongly disagree', '2. Disagree', '2. Disagree', '2. Disagree', '4. Strongly agree', '3. Agree', '2. Disagree', '2. Disagree', '1. Strongly disagree', '2. Disagree', '2. Disagree', '2. Disagree', '4.', '3. Agree', '3. Agree', '2. Disagree', '1. Strongly disagree']\n"
     ]
    }
   ],
   "source": [
    "print(model_responses)"
   ]
  },
  {
   "cell_type": "code",
   "execution_count": 8,
   "metadata": {},
   "outputs": [],
   "source": [
    "numerical_model_responses = []\n",
    "for i, r in enumerate(model_responses):\n",
    "    try: \n",
    "        numerical_model_responses += [int(r.strip()[0])]\n",
    "    except:\n",
    "        numerical_model_responses += [None]\n",
    "        print(i, \">>>>>>>> \", r)"
   ]
  },
  {
   "cell_type": "code",
   "execution_count": 11,
   "metadata": {},
   "outputs": [],
   "source": [
    "parsed_inputs = [\n",
    "    {\n",
    "        k: int(str(input)==k.lower())\n",
    "        for k in keys\n",
    "    }\n",
    "    for keys, input in zip(\n",
    "        pct_questionnaire.get_choices_keys(),\n",
    "        numerical_model_responses\n",
    "    )\n",
    "]"
   ]
  },
  {
   "cell_type": "code",
   "execution_count": 21,
   "metadata": {},
   "outputs": [],
   "source": [
    "results = pct_questionnaire.evaluate(parsed_inputs)"
   ]
  },
  {
   "cell_type": "code",
   "execution_count": 31,
   "metadata": {},
   "outputs": [
    {
     "data": {
      "image/png": "[encoded data removed]",
      "text/plain": [
       "<Figure size 500x500 with 1 Axes>"
      ]
     },
     "metadata": {},
     "output_type": "display_data"
    }
   ],
   "source": [
    "fig, ax = make_pct_frame()\n",
    "place_tick(\n",
    "    ax=ax,\n",
    "    x_pos=results[\"economic\"], y_pos=results[\"social\"],\n",
    "    **{\"color\":\"red\", \"marker\":'X'}\n",
    ")\n",
    "plt.show()"
   ]
  },
  {
   "cell_type": "code",
   "execution_count": null,
   "metadata": {},
   "outputs": [],
   "source": []
  },
  {
   "cell_type": "code",
   "execution_count": null,
   "metadata": {},
   "outputs": [],
   "source": []
  },
  {
   "cell_type": "code",
   "execution_count": null,
   "metadata": {},
   "outputs": [],
   "source": []
  }
 ],
 "metadata": {
  "kernelspec": {
   "display_name": "env_langchain",
   "language": "python",
   "name": "python3"
  },
  "language_info": {
   "codemirror_mode": {
    "name": "ipython",
    "version": 3
   },
   "file_extension": ".py",
   "mimetype": "text/x-python",
   "name": "python",
   "nbconvert_exporter": "python",
   "pygments_lexer": "ipython3",
   "version": "3.11.5"
  }
 },
 "nbformat": 4,
 "nbformat_minor": 2
}
